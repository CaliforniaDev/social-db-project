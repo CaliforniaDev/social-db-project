{
 "cells": [
  {
   "cell_type": "markdown",
   "metadata": {},
   "source": [
    "# The Querying Pipeline\n",
    "\n",
    "## How Postgres Handles Queries Step by Step:\n",
    "\n",
    "```sql\n",
    "SELECT *\n",
    "FROM users\n",
    "WHERE username = 'Alyson14';\n",
    "```\n",
    "1. **Parser**\n",
    "   - The query is first sent to the **parser**, where it is broken down into a structured format called a **parse tree**.  \n",
    "   - The parser checks for **syntax errors** and validates the SQL query to ensure that it follows the SQL standard.  \n",
    "   - For example, it ensures that `SELECT`, `FROM`, and `WHERE` are valid SQL keywords, and that `users` is a valid table name in the database schema.\n",
    "\n",
    "2. **Rewrite**\n",
    "   - The **query rewriter** takes the parsed query and applies any applicable **rules** or **transformations**.  \n",
    "   - This step involves applying **views**, **rules**, or **triggers** that may modify the query structure.  \n",
    "   - For example, if the query references a view instead of a table, the rewriter replaces the view with its underlying query.\n",
    "\n",
    "3. **Planner**\n",
    "   - The **query planner** (or **optimizer**) generates an **execution plan**.  \n",
    "   - Postgres considers multiple strategies (e.g., **sequential scan**, **index scan**) to determine the most **cost-efficient method** of executing the query.  \n",
    "   - The planner uses the database's **statistics** and **indexes** to estimate costs, such as the number of disk I/O operations and CPU resources required.  \n",
    "   - For instance, if there’s an index on `username`, the planner may choose an **index scan** over a **sequential scan** to optimize performance.\n",
    "\n",
    "4. **Execute**\n",
    "   - The **executor** runs the query based on the chosen plan from the planner.  \n",
    "   - Data is fetched row by row (or in batches) according to the plan's strategy.  \n",
    "   - For example, if an **index scan** is chosen, Postgres uses the index to locate the specific row(s) matching `username = 'Alyson14'`.  \n",
    "   - The results are returned to the client in the format specified by the query (e.g., `SELECT *` returns all columns for the matching row).\n",
    "\n",
    "---\n",
    "\n",
    "### When to Use Indexes\n",
    "- Use indexes for columns that are frequently queried in **WHERE**, **JOIN**, or **ORDER BY** clauses.  \n",
    "- Avoid adding indexes to columns with a high number of **duplicate values** (low cardinality) unless needed for specific use cases.  \n",
    "- Monitor query performance with `EXPLAIN` or `EXPLAIN ANALYZE` to identify slow queries that may benefit from indexes.  \n",
    "- Remember that indexes speed up **read operations** but may slow down **write operations** (INSERT, UPDATE, DELETE).\n",
    "\n",
    "---\n",
    "\n",
    "### Types of Indexes in Postgres\n",
    "1. **B-Tree Indexes**  \n",
    "   - Default index type, ideal for equality and range queries.  \n",
    "2. **Hash Indexes**  \n",
    "   - Optimized for equality comparisons, such as `=` and `!=`.  \n",
    "3. **GIN (Generalized Inverted Index)**  \n",
    "   - Suitable for full-text search and JSONB fields.  \n",
    "4. **GiST (Generalized Search Tree)**  \n",
    "   - Useful for complex queries, such as geometric data.  \n",
    "5. **BRIN (Block Range Index)**  \n",
    "   - Ideal for large, sequentially ordered datasets.\n",
    "\n"
   ]
  },
  {
   "cell_type": "markdown",
   "metadata": {},
   "source": []
  }
 ],
 "metadata": {
  "language_info": {
   "name": "python"
  }
 },
 "nbformat": 4,
 "nbformat_minor": 2
}
